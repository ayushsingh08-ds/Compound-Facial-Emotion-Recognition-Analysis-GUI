{
 "cells": [
  {
   "cell_type": "code",
   "execution_count": 4,
   "id": "c3cab569-b1dc-4a64-8e55-ffb5e5e63451",
   "metadata": {},
   "outputs": [
    {
     "name": "stdout",
     "output_type": "stream",
     "text": [
      "Requirement already satisfied: imutils in c:\\users\\ayush singh\\appdata\\local\\programs\\python\\python312\\lib\\site-packages (0.5.4)\n",
      "Note: you may need to restart the kernel to use updated packages.\n"
     ]
    }
   ],
   "source": [
    " pip install imutils"
   ]
  },
  {
   "cell_type": "code",
   "execution_count": 2,
   "id": "a341b627-ea12-476d-b1c5-1db143116882",
   "metadata": {},
   "outputs": [],
   "source": [
    "import numpy as np\n",
    "import pandas as pd\n",
    "import matplotlib.pyplot as plt\n",
    "import os\n",
    "from PIL import Image\n",
    "from sklearn.model_selection import train_test_split\n",
    "import shutil\n"
   ]
  },
  {
   "cell_type": "code",
   "execution_count": 3,
   "id": "f2866fb2-b52d-4846-902e-75a7fe834487",
   "metadata": {},
   "outputs": [
    {
     "name": "stdout",
     "output_type": "stream",
     "text": [
      "Creating HappilySurprised samples (train)...\n",
      "Creating HappilyDisgusted samples (train)...\n",
      "Creating SadlyFearful samples (train)...\n",
      "Creating Sadlyangry samples (train)...\n",
      "Creating SadlySurprised samples (train)...\n",
      "Creating SadlyDisgusted samples (train)...\n",
      "Creating FearfullyAngry samples (train)...\n",
      "Creating FearfullySurprised samples (train)...\n",
      "Creating AngrilySurprised samples (train)...\n",
      "Creating AngrilyDisgusted samples (train)...\n",
      "Creating DisgustedlySurprised samples (train)...\n",
      "Creating HappilySurprised samples (test)...\n",
      "Creating HappilyDisgusted samples (test)...\n",
      "Creating SadlyFearful samples (test)...\n",
      "Creating Sadlyangry samples (test)...\n",
      "Creating SadlySurprised samples (test)...\n",
      "Creating SadlyDisgusted samples (test)...\n",
      "Creating FearfullyAngry samples (test)...\n",
      "Creating FearfullySurprised samples (test)...\n",
      "Creating AngrilySurprised samples (test)...\n",
      "Creating AngrilyDisgusted samples (test)...\n",
      "Creating DisgustedlySurprised samples (test)...\n",
      "Compound emotion dataset creation complete!\n"
     ]
    }
   ],
   "source": [
    "\n",
    "# Define paths (modify these according to your actual FER-2013 paths)\n",
    "train_data_path = \"FER-2013/train\"  # Path to training images\n",
    "test_data_path = \"FER-2013/test\"    # Path to test images\n",
    "output_path = \"compound_emotions2\"   # Path to save new dataset\n",
    "\n",
    "# Create output directory structure\n",
    "os.makedirs(output_path, exist_ok=True)\n",
    "\n",
    "# Define the compound emotions we want to create\n",
    "compound_emotions = {\n",
    "    'HappilySurprised': ('happy', 'surprise'),\n",
    "    'HappilyDisgusted': ('happy', 'disgust'),\n",
    "    'SadlyFearful': ('sad', 'fear'),\n",
    "    'Sadlyangry': ('sad', 'angry'),\n",
    "    'SadlySurprised': ('sad', 'surprise'),\n",
    "    'SadlyDisgusted': ('sad', 'disgust'),\n",
    "    'FearfullyAngry': ('fear', 'angry'),\n",
    "    'FearfullySurprised': ('fear', 'surprise'),\n",
    "    'AngrilySurprised': ('angry', 'surprise'),\n",
    "    'AngrilyDisgusted': ('angry', 'disgust'),\n",
    "    'DisgustedlySurprised': ('disgust', 'surprise')\n",
    "}\n",
    "\n",
    "# Create directories for each compound emotion\n",
    "for emotion in compound_emotions.keys():\n",
    "    os.makedirs(os.path.join(output_path, 'train', emotion), exist_ok=True)\n",
    "    os.makedirs(os.path.join(output_path, 'test', emotion), exist_ok=True)\n",
    "\n",
    "# Function to create compound emotion samples\n",
    "def create_compound_samples(emotion1, emotion2, output_emotion, num_samples=1000, split='train'):\n",
    "    # Get paths to the emotion folders\n",
    "    path1 = os.path.join(train_data_path if split == 'train' else test_data_path, emotion1)\n",
    "    path2 = os.path.join(train_data_path if split == 'train' else test_data_path, emotion2)\n",
    "    \n",
    "    # Get list of images for each emotion\n",
    "    images1 = [f for f in os.listdir(path1) if f.endswith('.png') or f.endswith('.jpg')]\n",
    "    images2 = [f for f in os.listdir(path2) if f.endswith('.png') or f.endswith('.jpg')]\n",
    "    \n",
    "    # Make sure we have enough images\n",
    "    min_samples = min(len(images1), len(images2), num_samples)\n",
    "    \n",
    "    # Randomly select images to combine\n",
    "    selected1 = np.random.choice(images1, min_samples, replace=False)\n",
    "    selected2 = np.random.choice(images2, min_samples, replace=False)\n",
    "    \n",
    "    # Create output directory\n",
    "    output_dir = os.path.join(output_path, split, output_emotion)\n",
    "    \n",
    "    # Create compound images (simple average for demonstration)\n",
    "    for img1_name, img2_name in zip(selected1, selected2):\n",
    "        # Load images\n",
    "        img1 = Image.open(os.path.join(path1, img1_name))\n",
    "        img2 = Image.open(os.path.join(path2, img2_name))\n",
    "        \n",
    "        # Convert to numpy arrays\n",
    "        img1_arr = np.array(img1, dtype=np.float32)\n",
    "        img2_arr = np.array(img2, dtype=np.float32)\n",
    "        \n",
    "        # Resize if needed (assuming images are the same size)\n",
    "        if img1_arr.shape != img2_arr.shape:\n",
    "            img2 = img2.resize(img1.size)\n",
    "            img2_arr = np.array(img2, dtype=np.float32)\n",
    "        \n",
    "        # Simple average blending\n",
    "        compound_arr = (img1_arr + img2_arr) / 2\n",
    "        compound_img = Image.fromarray(compound_arr.astype(np.uint8))\n",
    "        \n",
    "        # Save the compound image\n",
    "        output_filename = f\"compound_{img1_name.split('.')[0]}_{img2_name}\"\n",
    "        compound_img.save(os.path.join(output_dir, output_filename))\n",
    "\n",
    "# Create training samples\n",
    "for compound_emotion, (emotion1, emotion2) in compound_emotions.items():\n",
    "    print(f\"Creating {compound_emotion} samples (train)...\")\n",
    "    create_compound_samples(emotion1, emotion2, compound_emotion, num_samples=500, split='train')\n",
    "\n",
    "# Create test samples\n",
    "for compound_emotion, (emotion1, emotion2) in compound_emotions.items():\n",
    "    print(f\"Creating {compound_emotion} samples (test)...\")\n",
    "    create_compound_samples(emotion1, emotion2, compound_emotion, num_samples=100, split='test')\n",
    "\n",
    "print(\"Compound emotion dataset creation complete!\")"
   ]
  }
 ],
 "metadata": {
  "kernelspec": {
   "display_name": "Python 3 (ipykernel)",
   "language": "python",
   "name": "python3"
  },
  "language_info": {
   "codemirror_mode": {
    "name": "ipython",
    "version": 3
   },
   "file_extension": ".py",
   "mimetype": "text/x-python",
   "name": "python",
   "nbconvert_exporter": "python",
   "pygments_lexer": "ipython3",
   "version": "3.12.6"
  }
 },
 "nbformat": 4,
 "nbformat_minor": 5
}
