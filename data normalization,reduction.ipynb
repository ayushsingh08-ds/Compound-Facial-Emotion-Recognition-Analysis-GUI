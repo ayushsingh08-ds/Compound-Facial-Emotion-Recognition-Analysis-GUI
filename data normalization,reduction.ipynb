{
 "cells": [
  {
   "cell_type": "code",
   "execution_count": 1,
   "id": "2e77d327-ef9b-4da1-8e75-041d571421aa",
   "metadata": {},
   "outputs": [],
   "source": [
    "import os\n",
    "import numpy as np\n",
    "from PIL import Image\n",
    "from sklearn.model_selection import train_test_split\n",
    "import scipy.io as sio"
   ]
  },
  {
   "cell_type": "code",
   "execution_count": 2,
   "id": "51004f6f-fbfe-473f-bb9c-c42a13f2997c",
   "metadata": {},
   "outputs": [
    {
     "name": "stdout",
     "output_type": "stream",
     "text": [
      "Saved as 'compound_emotion_cleaned.mat'\n"
     ]
    }
   ],
   "source": [
    "\n",
    "\n",
    "# === Parameters ===\n",
    "image_size = (48, 48)  # Resize all images to this\n",
    "dataset_path = 'Compound_Emotion'  # <- Change this\n",
    "\n",
    "# === Step 1: Load images and labels ===\n",
    "X = []\n",
    "y = []\n",
    "label_names = sorted(os.listdir(dataset_path))\n",
    "label_to_int = {label: idx for idx, label in enumerate(label_names)}\n",
    "\n",
    "for label in label_names:\n",
    "    folder = os.path.join(dataset_path, label)\n",
    "    if not os.path.isdir(folder):\n",
    "        continue\n",
    "    for fname in os.listdir(folder):\n",
    "        try:\n",
    "            fpath = os.path.join(folder, fname)\n",
    "            img = Image.open(fpath).convert('L')  # Grayscale\n",
    "            img = img.resize(image_size)\n",
    "            img_np = np.array(img, dtype=np.float32) / 255.0  # Normalize\n",
    "            X.append(img_np)\n",
    "            y.append(label_to_int[label])\n",
    "        except Exception as e:\n",
    "            print(f\"Error reading {fpath}: {e}\")\n",
    "\n",
    "X = np.stack(X)  # (n_samples, 48, 48)\n",
    "X = X[:, :, :, np.newaxis]  # (n_samples, 48, 48, 1)\n",
    "y = np.array(y, dtype=np.int32)\n",
    "    \n",
    "# === Step 2: Split into Train/Val/Test ===\n",
    "X_temp, X_test, y_temp, y_test = train_test_split(X, y, test_size=0.1, stratify=y, random_state=42)\n",
    "X_train, X_val, y_train, y_val = train_test_split(X_temp, y_temp, test_size=0.1111, stratify=y_temp, random_state=42)\n",
    "# This results in 80% train, 10% val, 10% test\n",
    "\n",
    "# === Step 3: Save to .mat ===\n",
    "sio.savemat('compound_emotion_cleaned.mat', {\n",
    "    'X_train': X_train,\n",
    "    'y_train': y_train,\n",
    "    'X_val': X_val,\n",
    "    'y_val': y_val,\n",
    "    'X_test': X_test,\n",
    "    'y_test': y_test,\n",
    "    'label_names': np.array(label_names)\n",
    "})\n",
    "\n",
    "print(\"Saved as 'compound_emotion_cleaned.mat'\")\n"
   ]
  }
 ],
 "metadata": {
  "kernelspec": {
   "display_name": "Python 3 (ipykernel)",
   "language": "python",
   "name": "python3"
  },
  "language_info": {
   "codemirror_mode": {
    "name": "ipython",
    "version": 3
   },
   "file_extension": ".py",
   "mimetype": "text/x-python",
   "name": "python",
   "nbconvert_exporter": "python",
   "pygments_lexer": "ipython3",
   "version": "3.12.6"
  }
 },
 "nbformat": 4,
 "nbformat_minor": 5
}
